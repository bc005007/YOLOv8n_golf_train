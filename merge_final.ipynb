{
 "cells": [
  {
   "cell_type": "code",
   "execution_count": 1,
   "metadata": {},
   "outputs": [
    {
     "name": "stdout",
     "output_type": "stream",
     "text": [
      "GolfBall_data_for_tracking\n",
      "├── train\n",
      "│   ├── labels\n",
      "│   └── images\n",
      "├── valid\n",
      "│   ├── labels\n",
      "│   └── images\n",
      "└── test\n",
      "    ├── images\n",
      "    │   ├── Golf_1\n",
      "    │   ├── Golf_10\n",
      "    │   ├── Golf_16\n",
      "    │   ├── Golf_17\n",
      "    │   ├── Golf_2\n",
      "    │   ├── Golf_4\n",
      "    │   ├── Golf_5\n",
      "    │   └── Golf_8\n",
      "    └── labels\n"
     ]
    }
   ],
   "source": [
    "import os\n",
    "\n",
    "def print_directory_tree(root_dir, prefix=\"\"):\n",
    "    # 현재 디렉토리의 하위 항목들을 가져옴\n",
    "    entries = [entry for entry in os.listdir(root_dir) if os.path.isdir(os.path.join(root_dir, entry))]\n",
    "    entries_count = len(entries)\n",
    "    \n",
    "    # 각 항목을 처리\n",
    "    for index, entry in enumerate(entries):\n",
    "        connector = \"└──\" if index == entries_count - 1 else \"├──\"\n",
    "        print(f\"{prefix}{connector} {entry}\")\n",
    "        \n",
    "        # 하위 디렉토리가 있는 경우 재귀적으로 호출\n",
    "        new_prefix = \"    \" if index == entries_count - 1 else \"│   \"\n",
    "        print_directory_tree(os.path.join(root_dir, entry), prefix + new_prefix)\n",
    "\n",
    "# 실행 예시\n",
    "root_directory = \"GolfBall_data_for_tracking\"  # 여기에 탐색할 루트 디렉토리 경로를 입력하세요.\n",
    "print(root_directory)\n",
    "print_directory_tree(root_directory)"
   ]
  },
  {
   "cell_type": "code",
   "execution_count": 2,
   "metadata": {},
   "outputs": [
    {
     "name": "stdout",
     "output_type": "stream",
     "text": [
      "merged_golfball\n",
      "├── test\n",
      "│   ├── images\n",
      "│   └── labels\n",
      "├── train\n",
      "│   ├── images\n",
      "│   └── labels\n",
      "└── valid\n",
      "    ├── images\n",
      "    └── labels\n"
     ]
    }
   ],
   "source": [
    "import os\n",
    "\n",
    "def print_directory_tree(root_dir, prefix=\"\"):\n",
    "    # 현재 디렉토리의 하위 항목들을 가져옴\n",
    "    entries = [entry for entry in os.listdir(root_dir) if os.path.isdir(os.path.join(root_dir, entry))]\n",
    "    entries_count = len(entries)\n",
    "    \n",
    "    # 각 항목을 처리\n",
    "    for index, entry in enumerate(entries):\n",
    "        connector = \"└──\" if index == entries_count - 1 else \"├──\"\n",
    "        print(f\"{prefix}{connector} {entry}\")\n",
    "        \n",
    "        # 하위 디렉토리가 있는 경우 재귀적으로 호출\n",
    "        new_prefix = \"    \" if index == entries_count - 1 else \"│   \"\n",
    "        print_directory_tree(os.path.join(root_dir, entry), prefix + new_prefix)\n",
    "\n",
    "# 실행 예시\n",
    "root_directory = \"merged_golfball\"  # 여기에 탐색할 루트 디렉토리 경로를 입력하세요.\n",
    "print(root_directory)\n",
    "print_directory_tree(root_directory)"
   ]
  },
  {
   "cell_type": "markdown",
   "metadata": {},
   "source": [
    "- 퍼팅 데이터 삭제"
   ]
  },
  {
   "cell_type": "code",
   "execution_count": 9,
   "metadata": {},
   "outputs": [
    {
     "name": "stdout",
     "output_type": "stream",
     "text": [
      "Deleted files#: 382\n"
     ]
    }
   ],
   "source": [
    "import os\n",
    "\n",
    "def delete_put_files(base_folder):\n",
    "    \"\"\"\n",
    "    Deletes all .jpg and .txt files containing 'PUT' in their filenames\n",
    "    from the train and valid folders of the specified base folder.\n",
    "    \"\"\"\n",
    "    # List to keep track of deleted files for confirmation/logging\n",
    "    file_deleted = []\n",
    "    \n",
    "    # Define the paths to train and valid directories\n",
    "    directories = [os.path.join(base_folder, 'train'), os.path.join(base_folder, 'valid')]\n",
    "    \n",
    "    for directory in directories:\n",
    "        # Check images and labels subfolders\n",
    "        for subfolder in ['images', 'labels']:\n",
    "            folder_path = os.path.join(directory, subfolder)\n",
    "            if os.path.exists(folder_path):\n",
    "                # Iterate through files in the folder\n",
    "                for filename in os.listdir(folder_path):\n",
    "                    if filename.lower().startswith('put') and (filename.endswith('.jpg') or filename.endswith('.txt')):\n",
    "                        file_path = os.path.join(folder_path, filename)\n",
    "                        os.remove(file_path)  # Delete the file\n",
    "                        file_deleted.append(file_path)  # Log the deleted file path\n",
    "    \n",
    "    return file_deleted\n",
    "\n",
    "# Call the function with the specified base folder\n",
    "base_folder = './GolfBall_data_for_tracking'\n",
    "deleted_files = delete_put_files(base_folder)\n",
    "\n",
    "# Print the list of deleted files for verification\n",
    "cnt = 0\n",
    "for file in deleted_files:\n",
    "    cnt += 1\n",
    "\n",
    "print(f\"Deleted files#: {cnt}\")"
   ]
  }
 ],
 "metadata": {
  "kernelspec": {
   "display_name": "YOLO",
   "language": "python",
   "name": "python3"
  },
  "language_info": {
   "codemirror_mode": {
    "name": "ipython",
    "version": 3
   },
   "file_extension": ".py",
   "mimetype": "text/x-python",
   "name": "python",
   "nbconvert_exporter": "python",
   "pygments_lexer": "ipython3",
   "version": "3.9.20"
  }
 },
 "nbformat": 4,
 "nbformat_minor": 2
}
