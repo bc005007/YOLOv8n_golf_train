{
 "cells": [
  {
   "cell_type": "code",
   "execution_count": null,
   "metadata": {},
   "outputs": [
    {
     "name": "stdout",
     "output_type": "stream",
     "text": [
      "폴더가 성공적으로 merged_golfball에 병합되었습니다.\n"
     ]
    }
   ],
   "source": [
    "import os\n",
    "import shutil\n",
    "\n",
    "# 병합할 두 개의 폴더 경로\n",
    "folder1 = './golf-ball,golf-club-handle,golf-club-head-1'\n",
    "folder2 = './galf-2'\n",
    "\n",
    "# 병합된 결과를 저장할 새로운 폴더 경로\n",
    "merged_folder = 'merged_golfball_with_golf_clubhead'\n",
    "\n",
    "# 새로운 폴더 생성 (이미 존재하면 무시)\n",
    "os.makedirs(merged_folder, exist_ok=True)\n",
    "\n",
    "def merge_folders(src_folder, dest_folder):\n",
    "    for root, dirs, files in os.walk(src_folder):\n",
    "        # 현재 경로에서 상대 경로를 계산하여 대상 폴더에 복사\n",
    "        relative_path = os.path.relpath(root, src_folder)\n",
    "        dest_path = os.path.join(dest_folder, relative_path)\n",
    "\n",
    "        # 대상 경로가 없으면 생성\n",
    "        os.makedirs(dest_path, exist_ok=True)\n",
    "\n",
    "        # 파일을 복사\n",
    "        for file in files:\n",
    "            src_file = os.path.join(root, file)\n",
    "            dest_file = os.path.join(dest_path, file)\n",
    "            shutil.copy2(src_file, dest_file)\n",
    "\n",
    "# 첫 번째 폴더 병합\n",
    "merge_folders(folder1, merged_folder)\n",
    "\n",
    "# 두 번째 폴더 병합\n",
    "merge_folders(folder2, merged_folder)\n",
    "\n",
    "print(f\"폴더가 성공적으로 {merged_folder}에 병합되었습니다.\")\n"
   ]
  },
  {
   "cell_type": "code",
   "execution_count": null,
   "metadata": {},
   "outputs": [
    {
     "name": "stdout",
     "output_type": "stream",
     "text": [
      "이미지 개수:\n",
      "train: 4381개\n",
      "test: 339개\n",
      "valid: 448개\n"
     ]
    }
   ],
   "source": [
    "import os\n",
    "\n",
    "def count_images_in_folder(folder_path):\n",
    "    image_count = {}\n",
    "    # 이미지 파일 확장자 목록\n",
    "    image_extensions = ('.jpg', '.jpeg', '.png', '.bmp', '.gif')\n",
    "\n",
    "    # train, test, valid 폴더 각각에 대해 이미지 개수 세기\n",
    "    for subset in ['train', 'test', 'valid']:\n",
    "        subset_path = os.path.join(folder_path, subset, 'images')\n",
    "        if os.path.exists(subset_path):\n",
    "            # 해당 폴더 안의 이미지 파일 개수 세기\n",
    "            image_files = [f for f in os.listdir(subset_path) if f.lower().endswith(image_extensions)]\n",
    "            image_count[subset] = len(image_files)\n",
    "        else:\n",
    "            image_count[subset] = 0  # 해당 폴더가 없으면 0으로 설정\n",
    "    return image_count\n",
    "\n",
    "# 사용할 폴더 경로 (병합된 폴더 경로)\n",
    "merged_folder_path = 'merged_golfball_with_golf_clubhead'\n",
    "\n",
    "# 이미지 개수 세기\n",
    "image_counts = count_images_in_folder(merged_folder_path)\n",
    "\n",
    "# 결과 출력\n",
    "print(\"이미지 개수:\")\n",
    "for subset, count in image_counts.items():\n",
    "    print(f\"{subset}: {count}개\")\n"
   ]
  }
 ],
 "metadata": {
  "kernelspec": {
   "display_name": "YOLO",
   "language": "python",
   "name": "python3"
  },
  "language_info": {
   "codemirror_mode": {
    "name": "ipython",
    "version": 3
   },
   "file_extension": ".py",
   "mimetype": "text/x-python",
   "name": "python",
   "nbconvert_exporter": "python",
   "pygments_lexer": "ipython3",
   "version": "3.9.20"
  }
 },
 "nbformat": 4,
 "nbformat_minor": 2
}
