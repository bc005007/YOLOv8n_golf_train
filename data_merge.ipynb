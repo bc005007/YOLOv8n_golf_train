{
 "cells": [
  {
   "cell_type": "code",
   "execution_count": 6,
   "metadata": {},
   "outputs": [
    {
     "name": "stdout",
     "output_type": "stream",
     "text": [
      "golf-ball,golf-club-handle,golf-club-head-1\n",
      "├── test\n",
      "│   ├── images\n",
      "│   └── labels\n",
      "├── train\n",
      "│   ├── images\n",
      "│   └── labels\n",
      "└── valid\n",
      "    ├── images\n",
      "    └── labels\n"
     ]
    }
   ],
   "source": [
    "import os\n",
    "\n",
    "def print_directory_tree(root_dir, prefix=\"\"):\n",
    "    # 현재 디렉토리의 하위 항목들을 가져옴\n",
    "    entries = [entry for entry in os.listdir(root_dir) if os.path.isdir(os.path.join(root_dir, entry))]\n",
    "    entries_count = len(entries)\n",
    "    \n",
    "    # 각 항목을 처리\n",
    "    for index, entry in enumerate(entries):\n",
    "        connector = \"└──\" if index == entries_count - 1 else \"├──\"\n",
    "        print(f\"{prefix}{connector} {entry}\")\n",
    "        \n",
    "        # 하위 디렉토리가 있는 경우 재귀적으로 호출\n",
    "        new_prefix = \"    \" if index == entries_count - 1 else \"│   \"\n",
    "        print_directory_tree(os.path.join(root_dir, entry), prefix + new_prefix)\n",
    "\n",
    "# 실행 예시\n",
    "root_directory = \"golf-ball,golf-club-handle,golf-club-head-1\"  # 여기에 탐색할 루트 디렉토리 경로를 입력하세요.\n",
    "print(root_directory)\n",
    "print_directory_tree(root_directory)\n"
   ]
  },
  {
   "cell_type": "markdown",
   "metadata": {},
   "source": [
    "클래스 번호 변경 규칙:\n",
    "- 첫 번째 데이터 세트 (`golf-ball,golf-club-handle,golf-club-head-1`):\n",
    "- Golf Ball (0) → 그대로 유지\n",
    "- Club Handle (1) → 2로 변경\n",
    "- Club Head (2) → 1로 변경\n",
    "- 두 번째 데이터 세트 (`galf-2`):\n",
    "- Golf Ball (1) → 0으로 변경\n",
    "- Club Head (0) → 1로 변경"
   ]
  },
  {
   "cell_type": "markdown",
   "metadata": {},
   "source": [
    "- Golf Ball - 0\n",
    "- Club Head - 1\n",
    "- Club Handle - 2"
   ]
  },
  {
   "cell_type": "code",
   "execution_count": null,
   "metadata": {},
   "outputs": [],
   "source": [
    "import os\n",
    "\n",
    "# 클래스 번호 매핑 규칙 정의\n",
    "# 첫 번째 데이터 세트 클래스 매핑 (golf-ball,golf-club-handle,golf-club-head-1)\n",
    "first_dataset_mapping = {0: 0, 1: 2, 2: 1}\n",
    "\n",
    "# 두 번째 데이터 세트 클래스 매핑 (galf-2)\n",
    "second_dataset_mapping = {0: 1, 1: 0}\n",
    "\n",
    "def update_labels(file_path, class_mapping):\n",
    "    \"\"\"\n",
    "    주어진 파일의 라벨링 번호를 class_mapping에 따라 업데이트하는 함수.\n",
    "    \n",
    "    Args:\n",
    "        file_path (str): YOLO 형식 라벨링 파일 경로.\n",
    "        class_mapping (dict): 기존 클래스 번호에서 새로운 번호로 매핑하는 딕셔너리.\n",
    "    \"\"\"\n",
    "    with open(file_path, 'r') as file:\n",
    "        lines = file.readlines()\n",
    "\n",
    "    updated_lines = []\n",
    "    for line in lines:\n",
    "        components = line.strip().split()\n",
    "        class_id = int(components[0])\n",
    "        # 클래스 번호를 매핑 규칙에 따라 변환\n",
    "        new_class_id = class_mapping.get(class_id, class_id)\n",
    "        # 변환된 클래스 번호와 나머지 좌표 값들 유지\n",
    "        updated_line = f\"{new_class_id} \" + \" \".join(components[1:])\n",
    "        updated_lines.append(updated_line)\n",
    "\n",
    "    # 업데이트된 내용을 파일에 다시 저장\n",
    "    with open(file_path, 'w') as file:\n",
    "        file.write(\"\\n\".join(updated_lines) + \"\\n\")\n",
    "\n",
    "def process_labels_in_folders(base_folder_path, class_mapping):\n",
    "    \"\"\"\n",
    "    주어진 폴더 내의 train, test, valid 하위 폴더의 labels 폴더 내 모든 YOLO 형식 라벨링 파일을 처리하는 함수.\n",
    "    \n",
    "    Args:\n",
    "        base_folder_path (str): 데이터셋의 최상위 폴더 경로.\n",
    "        class_mapping (dict): 기존 클래스 번호에서 새로운 번호로 매핑하는 딕셔너리.\n",
    "    \"\"\"\n",
    "    subfolders = ['train', 'test', 'valid']\n",
    "    \n",
    "    for subfolder in subfolders:\n",
    "        labels_folder = os.path.join(base_folder_path, subfolder, 'labels')\n",
    "        \n",
    "        if not os.path.exists(labels_folder):\n",
    "            print(f\"{labels_folder} 경로가 존재하지 않습니다.\")\n",
    "            continue\n",
    "        \n",
    "        for filename in os.listdir(labels_folder):\n",
    "            if filename.endswith(\".txt\"):  # YOLO 형식 라벨링 파일만 처리\n",
    "                file_path = os.path.join(labels_folder, filename)\n",
    "                print(f\"Processing {file_path}...\")\n",
    "                update_labels(file_path, class_mapping)\n",
    "\n",
    "# 첫 번째 데이터 세트 처리\n",
    "process_labels_in_folders('./golf-ball,golf-club-handle,golf-club-head-1', first_dataset_mapping)\n",
    "\n",
    "# 두 번째 데이터 세트 처리\n",
    "process_labels_in_folders('./galf-2', second_dataset_mapping)\n",
    "\n",
    "print(\"모든 파일이 성공적으로 업데이트되었습니다.\")"
   ]
  },
  {
   "cell_type": "code",
   "execution_count": 8,
   "metadata": {},
   "outputs": [
    {
     "name": "stdout",
     "output_type": "stream",
     "text": [
      "폴더가 성공적으로 merged_golfball_with_golf_club에 병합되었습니다.\n"
     ]
    }
   ],
   "source": [
    "import os\n",
    "import shutil\n",
    "\n",
    "# 병합할 두 개의 폴더 경로\n",
    "folder1 = './golf-ball,golf-club-handle,golf-club-head-1'\n",
    "folder2 = './galf-2'\n",
    "\n",
    "# 병합된 결과를 저장할 새로운 폴더 경로\n",
    "merged_folder = 'merged_golfball_with_golf_club'\n",
    "\n",
    "# 새로운 폴더 생성 (이미 존재하면 무시)\n",
    "os.makedirs(merged_folder, exist_ok=True)\n",
    "\n",
    "def merge_folders(src_folder, dest_folder):\n",
    "    for root, dirs, files in os.walk(src_folder):\n",
    "        # 현재 경로에서 상대 경로를 계산하여 대상 폴더에 복사\n",
    "        relative_path = os.path.relpath(root, src_folder)\n",
    "        dest_path = os.path.join(dest_folder, relative_path)\n",
    "\n",
    "        # 대상 경로가 없으면 생성\n",
    "        os.makedirs(dest_path, exist_ok=True)\n",
    "\n",
    "        # 파일을 복사\n",
    "        for file in files:\n",
    "            src_file = os.path.join(root, file)\n",
    "            dest_file = os.path.join(dest_path, file)\n",
    "            shutil.copy2(src_file, dest_file)\n",
    "\n",
    "# 첫 번째 폴더 병합\n",
    "merge_folders(folder1, merged_folder)\n",
    "\n",
    "# 두 번째 폴더 병합\n",
    "merge_folders(folder2, merged_folder)\n",
    "\n",
    "print(f\"폴더가 성공적으로 {merged_folder}에 병합되었습니다.\")\n"
   ]
  },
  {
   "cell_type": "code",
   "execution_count": 10,
   "metadata": {},
   "outputs": [
    {
     "name": "stdout",
     "output_type": "stream",
     "text": [
      "이미지 개수:\n",
      "train: 24867개\n",
      "test: 1020개\n",
      "valid: 1904개\n"
     ]
    }
   ],
   "source": [
    "import os\n",
    "\n",
    "def count_images_in_folder(folder_path):\n",
    "    image_count = {}\n",
    "    # 이미지 파일 확장자 목록\n",
    "    image_extensions = ('.jpg', '.jpeg', '.png', '.bmp', '.gif')\n",
    "\n",
    "    # train, test, valid 폴더 각각에 대해 이미지 개수 세기\n",
    "    for subset in ['train', 'test', 'valid']:\n",
    "        subset_path = os.path.join(folder_path, subset, 'images')\n",
    "        if os.path.exists(subset_path):\n",
    "            # 해당 폴더 안의 이미지 파일 개수 세기\n",
    "            image_files = [f for f in os.listdir(subset_path) if f.lower().endswith(image_extensions)]\n",
    "            image_count[subset] = len(image_files)\n",
    "        else:\n",
    "            image_count[subset] = 0  # 해당 폴더가 없으면 0으로 설정\n",
    "    return image_count\n",
    "\n",
    "# 사용할 폴더 경로 (병합된 폴더 경로)\n",
    "merged_folder_path = 'merged_golfball_with_golf_club'\n",
    "\n",
    "# 이미지 개수 세기\n",
    "image_counts = count_images_in_folder(merged_folder_path)\n",
    "\n",
    "# 결과 출력\n",
    "print(\"이미지 개수:\")\n",
    "for subset, count in image_counts.items():\n",
    "    print(f\"{subset}: {count}개\")\n"
   ]
  }
 ],
 "metadata": {
  "kernelspec": {
   "display_name": "YOLO",
   "language": "python",
   "name": "python3"
  },
  "language_info": {
   "codemirror_mode": {
    "name": "ipython",
    "version": 3
   },
   "file_extension": ".py",
   "mimetype": "text/x-python",
   "name": "python",
   "nbconvert_exporter": "python",
   "pygments_lexer": "ipython3",
   "version": "3.9.20"
  }
 },
 "nbformat": 4,
 "nbformat_minor": 2
}
